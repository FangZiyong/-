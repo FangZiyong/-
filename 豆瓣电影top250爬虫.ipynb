{
 "cells": [
  {
   "cell_type": "code",
   "execution_count": 10,
   "metadata": {
    "ExecuteTime": {
     "end_time": "2019-08-24T07:20:29.601188Z",
     "start_time": "2019-08-24T07:20:29.586281Z"
    }
   },
   "outputs": [],
   "source": [
    "import requests\n",
    "from tqdm import tqdm_notebook\n",
    "from bs4 import BeautifulSoup\n",
    "import pandas as pd\n",
    "import numpy as np\n",
    "import matplotlib.pyplot as plt\n",
    "import matplotlib as mpl\n",
    "mpl.rcParams['font.sans-serif'] = ['KaiTi']\n",
    "mpl.rcParams['font.serif'] = ['KaiTi']\n",
    "# mpl.rcParams['axes.unicode_minus'] = False # 解决保存图像是负号'-'显示为方块的问题,或者转换负号为字符串\n",
    "import seaborn as sns\n",
    "sns.set_style(\"darkgrid\",{\"font.sans-serif\":['KaiTi', 'Arial']})\n",
    "import re    #  正则表达式"
   ]
  },
  {
   "cell_type": "code",
   "execution_count": 7,
   "metadata": {
    "ExecuteTime": {
     "end_time": "2019-08-24T07:19:49.130809Z",
     "start_time": "2019-08-24T07:19:11.459887Z"
    },
    "scrolled": true
   },
   "outputs": [
    {
     "name": "stdout",
     "output_type": "stream",
     "text": [
      "正在从 https://movie.douban.com/top250 获取数据\n",
      "正在从 https://movie.douban.com/top250?start=25&filter= 获取数据\n",
      "正在从 https://movie.douban.com/top250?start=50&filter= 获取数据\n",
      "正在从 https://movie.douban.com/top250?start=75&filter= 获取数据\n",
      "正在从 https://movie.douban.com/top250?start=100&filter= 获取数据\n",
      "正在从 https://movie.douban.com/top250?start=125&filter= 获取数据\n",
      "正在从 https://movie.douban.com/top250?start=150&filter= 获取数据\n",
      "正在从 https://movie.douban.com/top250?start=175&filter= 获取数据\n",
      "正在从 https://movie.douban.com/top250?start=200&filter= 获取数据\n",
      "正在从 https://movie.douban.com/top250?start=225&filter= 获取数据\n"
     ]
    }
   ],
   "source": [
    "download_url='https://movie.douban.com/top250'\n",
    "headers={'User-Agent': 'Mozilla/5.0 (Macintosh; Intel Mac OS X 10_11_2) AppleWebKit/537.36 (KHTML, like Gecko) Chrome/47.0.2526.80 Safari/537.36'}\n",
    "data=pd.DataFrame(columns=['name','score','year'])\n",
    "def download(data,url):\n",
    "    element={}\n",
    "    html=requests.get(url,headers).content\n",
    "    soup=BeautifulSoup(html)\n",
    "    #print(soup)\n",
    "    movie_list=soup.find('ol',attrs={'class':'grid_view'})   \n",
    "    for movie_li in movie_list.find_all('li'):\n",
    "        #爬取名字\n",
    "        detail1=movie_li.find('div',attrs={'class':'hd'})\n",
    "        movie_name=detail1.find('span',attrs={'class':'title'}).getText()\n",
    "        element['name']=movie_name\n",
    "        #爬取评分\n",
    "        detail2=movie_li.find('div',attrs={'class':'bd'})\n",
    "        s=detail2.find('span',attrs={'class':'rating_num'}).getText()\n",
    "        element['score']=float(s)\n",
    "        #print(detail2)\n",
    "        #爬取年份\n",
    "        detail3=movie_li.find('p').getText()\n",
    "        year=re.search('\\d\\d\\d\\d',detail3).group()\n",
    "        element['year']=int(year)\n",
    "        data=data.append(element,ignore_index=True)\n",
    "        #切换到下一页\n",
    "        tail=soup.find('span',attrs={'class':'next'}).find('a')\n",
    "    if tail:\n",
    "        return data,download_url+tail['href']\n",
    "    return data,None\n",
    "\n",
    "\n",
    "\n",
    "\n",
    "url=download_url\n",
    "while url:\n",
    "    print('正在从',url,'获取数据')\n",
    "    data,url=download(data,url)"
   ]
  },
  {
   "cell_type": "code",
   "execution_count": 8,
   "metadata": {
    "ExecuteTime": {
     "end_time": "2019-08-24T07:19:49.434643Z",
     "start_time": "2019-08-24T07:19:49.145741Z"
    },
    "scrolled": false
   },
   "outputs": [
    {
     "data": {
      "text/plain": [
       "Text(0, 0.5, '电影数目')"
      ]
     },
     "execution_count": 8,
     "metadata": {},
     "output_type": "execute_result"
    },
    {
     "data": {
      "image/png": "[encoded data removed]",
      "text/plain": [
       "<Figure size 1152x720 with 1 Axes>"
      ]
     },
     "metadata": {},
     "output_type": "display_data"
    }
   ],
   "source": [
    "a=data['year'].value_counts()\n",
    "year=np.array(list(int(x) for x in a.index))\n",
    "times=np.array(list(x for x in a.values))\n",
    "plt.figure(1,(16,10))\n",
    "plt.bar(year,times)\n",
    "plt.xlabel('时间')\n",
    "plt.ylabel('电影数目')"
   ]
  }
 ],
 "metadata": {
  "kernelspec": {
   "display_name": "Python 3",
   "language": "python",
   "name": "python3"
  },
  "language_info": {
   "codemirror_mode": {
    "name": "ipython",
    "version": 3
   },
   "file_extension": ".py",
   "mimetype": "text/x-python",
   "name": "python",
   "nbconvert_exporter": "python",
   "pygments_lexer": "ipython3",
   "version": "3.7.4"
  },
  "varInspector": {
   "cols": {
    "lenName": 16,
    "lenType": 16,
    "lenVar": 40
   },
   "kernels_config": {
    "python": {
     "delete_cmd_postfix": "",
     "delete_cmd_prefix": "del ",
     "library": "var_list.py",
     "varRefreshCmd": "print(var_dic_list())"
    },
    "r": {
     "delete_cmd_postfix": ") ",
     "delete_cmd_prefix": "rm(",
     "library": "var_list.r",
     "varRefreshCmd": "cat(var_dic_list()) "
    }
   },
   "types_to_exclude": [
    "module",
    "function",
    "builtin_function_or_method",
    "instance",
    "_Feature"
   ],
   "window_display": false
  }
 },
 "nbformat": 4,
 "nbformat_minor": 2
}
